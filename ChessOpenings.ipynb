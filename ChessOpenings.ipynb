{
 "cells": [
  {
   "cell_type": "code",
   "execution_count": 2,
   "metadata": {},
   "outputs": [
    {
     "name": "stdout",
     "output_type": "stream",
     "text": [
      "Top 5 samples where the model's predictions were the furthest from the actual win rates:\n",
      "      Prediction Error  Predicted Win %  Actual Win %  \\\n",
      "1090            34.556           34.744          69.3   \n",
      "382             22.162           35.762          13.6   \n",
      "1774            22.067           35.533          57.6   \n",
      "598             19.982           35.718          55.7   \n",
      "543             19.961           35.161          15.2   \n",
      "\n",
      "                                                Opening  \n",
      "1090        Queen's Gambit Accepted, Saduleto Variation  \n",
      "382   Four Knights Game, Spanish Variation, Rubinste...  \n",
      "1774          Spanish Game, Morphy Defense, Wing Attack  \n",
      "598          Italian Game, Classical Variation, General  \n",
      "543                  Gruenfeld Defense, Smyslov Defense  \n",
      "Mean Squared Error: 31.284756519893897\n"
     ]
    }
   ],
   "source": [
    "import pandas as pd\n",
    "from sklearn.model_selection import train_test_split\n",
    "from sklearn.preprocessing import OneHotEncoder\n",
    "from sklearn.ensemble import RandomForestRegressor\n",
    "from sklearn.metrics import mean_squared_error\n",
    "\n",
    "# Load the dataset\n",
    "chess_data = pd.read_csv('Openings.csv')\n",
    "\n",
    "# Select the features and target variable\n",
    "features = ['Opening', 'Num Games', 'Perf Rating', 'Player Win %']\n",
    "X = chess_data[features]\n",
    "y = chess_data['Player Win %']\n",
    "\n",
    "# One-hot encode the 'Opening' column\n",
    "encoder = OneHotEncoder()\n",
    "X_encoded = pd.get_dummies(X, columns=['Opening'])\n",
    "X_encoded = encoder.fit_transform(X_encoded)\n",
    "\n",
    "# Split the data into training and testing sets\n",
    "X_train_encoded, X_test_encoded, y_train, y_test = train_test_split(X_encoded, y, test_size=0.2, random_state=42)\n",
    "\n",
    "# Initialize the model\n",
    "model = RandomForestRegressor(n_estimators=100, random_state=42)\n",
    "\n",
    "# Train the model\n",
    "model.fit(X_train_encoded, y_train)\n",
    "\n",
    "# Make predictions\n",
    "predictions = model.predict(X_test_encoded)\n",
    "\n",
    "# Calculate the prediction error for each sample\n",
    "prediction_error = abs(predictions - y_test)\n",
    "\n",
    "# Combine prediction error with original data\n",
    "error_df = pd.DataFrame({'Prediction Error': prediction_error, 'Predicted Win %': predictions, 'Actual Win %': y_test})\n",
    "error_df['Opening'] = X['Opening']  # Add 'Opening' column from original data\n",
    "\n",
    "# Select the top 5 samples with the largest prediction errors\n",
    "top_5_errors = error_df.nlargest(5, 'Prediction Error')\n",
    "\n",
    "# Display the top 5 samples\n",
    "print(\"Top 5 samples where the model's predictions were the furthest from the actual win rates:\")\n",
    "print(top_5_errors)\n",
    "\n",
    "# Evaluate the model\n",
    "mse = mean_squared_error(y_test, predictions)\n",
    "print(\"Mean Squared Error:\", mse)\n"
   ]
  },
  {
   "cell_type": "code",
   "execution_count": 3,
   "metadata": {},
   "outputs": [
    {
     "name": "stdout",
     "output_type": "stream",
     "text": [
      "Top 5 Chess Openings by Win Percentage:\n",
      "Opening\n",
      "Italian Game, Two Knights Defense, Fried Liver Attack           77.6\n",
      "Italian Game, Classical Variation, Center Atttack               71.5\n",
      "Queen's Gambit Refused, Chigorin Defense, Janowski Variation    70.1\n",
      "Caro-Kann Defense, Maroczy Variation, Maroczy Gambit            69.5\n",
      "Queen's Gambit Accepted, Saduleto Variation                     69.3\n",
      "Name: Player Win %, dtype: float64\n"
     ]
    }
   ],
   "source": [
    "import pandas as pd\n",
    "\n",
    "# Load the dataset\n",
    "chess_data = pd.read_csv('Openings.csv')\n",
    "\n",
    "# Calculate the average win percentage for each opening\n",
    "opening_win_rates = chess_data.groupby('Opening')['Player Win %'].mean()\n",
    "\n",
    "# Find the top 5 openings with the highest win percentage\n",
    "top_openings = opening_win_rates.nlargest(5)\n",
    "\n",
    "print(\"Top 5 Chess Openings by Win Percentage:\")\n",
    "print(top_openings)\n"
   ]
  }
 ],
 "metadata": {
  "kernelspec": {
   "display_name": "Python 3",
   "language": "python",
   "name": "python3"
  },
  "language_info": {
   "codemirror_mode": {
    "name": "ipython",
    "version": 3
   },
   "file_extension": ".py",
   "mimetype": "text/x-python",
   "name": "python",
   "nbconvert_exporter": "python",
   "pygments_lexer": "ipython3",
   "version": "3.12.1"
  }
 },
 "nbformat": 4,
 "nbformat_minor": 2
}
